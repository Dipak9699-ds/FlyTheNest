{
  "nbformat": 4,
  "nbformat_minor": 0,
  "metadata": {
    "colab": {
      "private_outputs": true,
      "provenance": [],
      "include_colab_link": true
    },
    "kernelspec": {
      "name": "python3",
      "display_name": "Python 3"
    },
    "language_info": {
      "name": "python"
    }
  },
  "cells": [
    {
      "cell_type": "markdown",
      "metadata": {
        "id": "view-in-github",
        "colab_type": "text"
      },
      "source": [
        "<a href=\"https://colab.research.google.com/github/Dipak9699-ds/FlyTheNest/blob/main/Bike_Sharing_Demand_Prediction_Project.ipynb\" target=\"_parent\"><img src=\"https://colab.research.google.com/assets/colab-badge.svg\" alt=\"Open In Colab\"/></a>"
      ]
    },
    {
      "cell_type": "markdown",
      "source": [
        "# **Project Name**    -\n",
        "\n",
        "$\\color{red}{\\text{Bike Sharing Demand Prediction}}$\n",
        "\n",
        "\n"
      ],
      "metadata": {
        "id": "vncDsAP0Gaoa"
      }
    },
    {
      "cell_type": "markdown",
      "source": [
        "# **Project Summary -**"
      ],
      "metadata": {
        "id": "FJNUwmbgGyua"
      }
    },
    {
      "cell_type": "markdown",
      "source": [
        "The goal of this project is to develop a machine learning model to predict the demand for bike sharing. The dataset used for this project contains various features related to weather conditions, date and time, and other factors that may influence bike rental demand.\n",
        "\n",
        "Overall, the bike sharing demand prediction project aimed to provide an accurate and reliable model to forecast the bike rental demand, which can be beneficial for bike sharing companies or city planners in optimizing bike availability and improving operational efficiency."
      ],
      "metadata": {
        "id": "F6v_1wHtG2nS"
      }
    },
    {
      "cell_type": "markdown",
      "source": [
        "# **Problem Statement**\n"
      ],
      "metadata": {
        "id": "yQaldy8SH6Dl"
      }
    },
    {
      "cell_type": "markdown",
      "source": [
        "**Currently Rental bikes are introduced in many urban cities for the enhancement of mobility comfort. It is important to make the rental bike available and accessible to the public at the right time as it lessens the waiting time. Eventually, providing the city with a stable supply of rental bikes becomes a major concern. The crucial part is the prediction of bike count required at each hour for the stable supply of rental bikes.**"
      ],
      "metadata": {
        "id": "DpeJGUA3kjGy"
      }
    },
    {
      "cell_type": "markdown",
      "source": [
        "### Import Libraries"
      ],
      "metadata": {
        "id": "twjBBs49ydnl"
      }
    },
    {
      "cell_type": "code",
      "source": [
        "# Import Libraries\n",
        "import pandas as pd\n",
        "import numpy as np\n",
        "import matplotlib.pyplot as plt\n",
        "import seaborn as sns\n",
        "import warnings as wr\n",
        "wr.filterwarnings('ignore')\n",
        "%matplotlib inline"
      ],
      "metadata": {
        "id": "A-rg0RfuVxau"
      },
      "execution_count": null,
      "outputs": []
    },
    {
      "cell_type": "markdown",
      "source": [
        "### Load Dataset"
      ],
      "metadata": {
        "id": "oaLq8PxjykXD"
      }
    },
    {
      "cell_type": "code",
      "source": [
        "# Load Dataset\n",
        "bike_df = pd.read_csv('SeoulBikeData.csv', encoding ='latin')"
      ],
      "metadata": {
        "id": "4CkvbW_SlZ_R"
      },
      "execution_count": null,
      "outputs": []
    },
    {
      "cell_type": "markdown",
      "source": [
        "### Dataset First View"
      ],
      "metadata": {
        "id": "x71ZqKXriCWQ"
      }
    },
    {
      "cell_type": "code",
      "source": [
        "# Dataset First Look\n",
        "bike_df.head()"
      ],
      "metadata": {
        "id": "LWNFOSvLl09H"
      },
      "execution_count": null,
      "outputs": []
    },
    {
      "cell_type": "markdown",
      "source": [
        "### Dataset Rows & Columns count"
      ],
      "metadata": {
        "id": "7hBIi_osiCS2"
      }
    },
    {
      "cell_type": "code",
      "source": [
        "# Dataset Rows & Columns count\n",
        "print(bike_df.shape)"
      ],
      "metadata": {
        "id": "Kllu7SJgmLij"
      },
      "execution_count": null,
      "outputs": []
    },
    {
      "cell_type": "markdown",
      "source": [
        "### Dataset Information"
      ],
      "metadata": {
        "id": "JlHwYmJAmNHm"
      }
    },
    {
      "cell_type": "code",
      "source": [
        "# Dataset Info\n",
        "bike_df.info()"
      ],
      "metadata": {
        "id": "e9hRXRi6meOf"
      },
      "execution_count": null,
      "outputs": []
    },
    {
      "cell_type": "markdown",
      "source": [
        "### Check Duplicate Values"
      ],
      "metadata": {
        "id": "486M3_nzyra3"
      }
    },
    {
      "cell_type": "code",
      "source": [
        "# Dataset Duplicate or Non Duplicate Value Count\n",
        "bike_df.duplicated().value_counts()"
      ],
      "metadata": {
        "id": "aeZbl3O88woj"
      },
      "execution_count": null,
      "outputs": []
    },
    {
      "cell_type": "code",
      "source": [
        "# Dataset Duplicate Value Count\n",
        "len(bike_df[bike_df.duplicated()])"
      ],
      "metadata": {
        "id": "1sLdpKYkmox0"
      },
      "execution_count": null,
      "outputs": []
    },
    {
      "cell_type": "markdown",
      "source": [
        "### Missing Values/Null Values"
      ],
      "metadata": {
        "id": "PoPl-ycgm1ru"
      }
    },
    {
      "cell_type": "code",
      "source": [
        "# Missing Values/Null Values Count\n",
        "print(bike_df.isnull().sum())"
      ],
      "metadata": {
        "id": "GgHWkxvamxVg"
      },
      "execution_count": null,
      "outputs": []
    },
    {
      "cell_type": "code",
      "source": [
        "# Visualizing the missing values\n",
        "sns.heatmap(bike_df.isnull())"
      ],
      "metadata": {
        "id": "3q5wnI3om9sJ"
      },
      "execution_count": null,
      "outputs": []
    },
    {
      "cell_type": "markdown",
      "source": [
        "The above dataset has 8760 rows and 14 columns. There are no mising values and duplicate values in the dataset."
      ],
      "metadata": {
        "id": "gfoNAAC-nUe_"
      }
    },
    {
      "cell_type": "markdown",
      "source": [
        "### Check Columns List"
      ],
      "metadata": {
        "id": "Ap3QzdZoy_EC"
      }
    },
    {
      "cell_type": "code",
      "source": [
        "# Dataset Columns\n",
        "bike_df.columns"
      ],
      "metadata": {
        "id": "j7xfkqrt5Ag5"
      },
      "execution_count": null,
      "outputs": []
    },
    {
      "cell_type": "markdown",
      "source": [
        "### Describe Dataset"
      ],
      "metadata": {
        "id": "uVLvzFbSzE1r"
      }
    },
    {
      "cell_type": "code",
      "source": [
        "# Dataset Describe\n",
        "bike_df.describe().T.style.background_gradient()"
      ],
      "metadata": {
        "id": "DnOaZdaE5Q5t"
      },
      "execution_count": null,
      "outputs": []
    },
    {
      "cell_type": "markdown",
      "source": [
        "### Variables Description"
      ],
      "metadata": {
        "id": "PBTbrJXOngz2"
      }
    },
    {
      "cell_type": "markdown",
      "source": [
        "*   Date : Date (year-month-day)\n",
        "*   Rented Bike count : Count of bikes rented at each hour\n",
        "*   Hour : Hour of the day (0-23)\n",
        "*   Temperature : Temperature of the day (in celsius)\n",
        "*   Humidity : Humidity measure (in %)\n",
        "*   Windspeed : Windspeed (m/s)\n",
        "*   Visibility : Visibility measure (10m)\n",
        "*   Dew point temperature : Dew point temperature measure (in celsius)\n",
        "*   Solar radiation : Solar radiation (MJ/m2)\n",
        "*   Rainfall : Rainfall measure (in mm)\n",
        "*   Snowfall : Snowfall measure (in cm)\n",
        "*   Seasons : Winter, Spring, Summer, Autumn\n",
        "*   Holiday : Weather a holiday or not\n",
        "*   Functional Day : Weather a functional day or not\n",
        "\n",
        "\n",
        "\n",
        "\n",
        "\n",
        "\n",
        "\n",
        "\n",
        "\n"
      ],
      "metadata": {
        "id": "aJV4KIxSnxay"
      }
    },
    {
      "cell_type": "markdown",
      "source": [
        "### Check unique values for each variable."
      ],
      "metadata": {
        "id": "u3PMJOP6ngxN"
      }
    },
    {
      "cell_type": "code",
      "source": [
        "# Check Unique Values for each variable.\n",
        "for i in bike_df.columns:\n",
        "  print(\"No. of unique values in \",i,\"is\",bike_df[i].nunique(),\".\")"
      ],
      "metadata": {
        "id": "zms12Yq5n-jE"
      },
      "execution_count": null,
      "outputs": []
    },
    {
      "cell_type": "code",
      "source": [
        "# Check Unique Values for each variable.\n",
        "for column in bike_df.columns:\n",
        "  print(str(column) + ' : ' + str(bike_df[column].unique()))\n",
        "  print('____________________________________________')"
      ],
      "metadata": {
        "id": "nAsWh3FwMf5I"
      },
      "execution_count": null,
      "outputs": []
    },
    {
      "cell_type": "markdown",
      "source": [
        "### Changing column name"
      ],
      "metadata": {
        "id": "xJspozhACizp"
      }
    },
    {
      "cell_type": "code",
      "source": [
        "# Rename the complex columns name\n",
        "bike_df = bike_df.rename(columns={'Rented Bike Count':'Rented_Bike_Count',\n",
        "                                'Temperature(°C)':'Temperature',\n",
        "                                'Humidity(%)':'Humidity',\n",
        "                                'Wind speed (m/s)':'Wind_speed',\n",
        "                                'Visibility (10m)':'Visibility',\n",
        "                                'Dew point temperature(°C)':'Dew_point_temperature',\n",
        "                                'Solar Radiation (MJ/m2)':'Solar_Radiation',\n",
        "                                'Rainfall(mm)':'Rainfall',\n",
        "                                'Snowfall (cm)':'Snowfall',\n",
        "                                'Functioning Day':'Functioning_Day'})"
      ],
      "metadata": {
        "id": "GpYwTYi-ClqQ"
      },
      "execution_count": null,
      "outputs": []
    },
    {
      "cell_type": "code",
      "source": [
        "# Dataset Columns\n",
        "bike_df.columns"
      ],
      "metadata": {
        "id": "oHTnm_x8aZac"
      },
      "execution_count": null,
      "outputs": []
    },
    {
      "cell_type": "markdown",
      "source": [
        "### Breaking date column & create a new column weekdays_weekend"
      ],
      "metadata": {
        "id": "sGQ8ko3PDVa8"
      }
    },
    {
      "cell_type": "code",
      "source": [
        "# Convert the \"Date\" column to datetime format\n",
        "import datetime as dt\n",
        "bike_df['Date'] = bike_df['Date'].apply(lambda x: dt.datetime.strptime(x,\"%d/%m/%Y\"))"
      ],
      "metadata": {
        "id": "0gMux9z2DXqH"
      },
      "execution_count": null,
      "outputs": []
    },
    {
      "cell_type": "code",
      "source": [
        "# Changing the \"Date\" column into three \"year\", \"month\", \"day\" column\n",
        "bike_df['year'] = bike_df['Date'].dt.year\n",
        "bike_df['month'] = bike_df['Date'].dt.month\n",
        "bike_df['day'] = bike_df['Date'].dt.day_name()"
      ],
      "metadata": {
        "id": "dTmkYA6vEErV"
      },
      "execution_count": null,
      "outputs": []
    },
    {
      "cell_type": "code",
      "source": [
        "# Creating a new column of \"weekdays_weekend\" and drop the column \"Date\", \"day\", \"year\"\n",
        "bike_df['weekdays_weekend']=bike_df['day'].apply(lambda x : 1 if x=='Saturday' or x=='Sunday' else 0 )\n",
        "bike_df=bike_df.drop(columns=['Date','day','year'],axis=1)"
      ],
      "metadata": {
        "id": "f4Nt1te0EMQl"
      },
      "execution_count": null,
      "outputs": []
    },
    {
      "cell_type": "code",
      "source": [
        "bike_df.head()"
      ],
      "metadata": {
        "id": "JS6SZGl_EU9e"
      },
      "execution_count": null,
      "outputs": []
    },
    {
      "cell_type": "code",
      "source": [
        "bike_df.info()"
      ],
      "metadata": {
        "id": "iDQu6qIoFA1H"
      },
      "execution_count": null,
      "outputs": []
    },
    {
      "cell_type": "code",
      "source": [
        "bike_df['weekdays_weekend'].value_counts()"
      ],
      "metadata": {
        "id": "5OUAJz__FEGp"
      },
      "execution_count": null,
      "outputs": []
    },
    {
      "cell_type": "markdown",
      "source": [
        "### Changing data type"
      ],
      "metadata": {
        "id": "psx3hA2BJRjM"
      }
    },
    {
      "cell_type": "code",
      "source": [
        "# Change the int64 column into catagory column\n",
        "cols=['Hour','month','weekdays_weekend']\n",
        "for col in cols:\n",
        "  bike_df[col]=bike_df[col].astype('category')"
      ],
      "metadata": {
        "id": "Mjb7dG1dJZjy"
      },
      "execution_count": null,
      "outputs": []
    },
    {
      "cell_type": "code",
      "source": [
        "# Let's check the result of data type\n",
        "bike_df.info()"
      ],
      "metadata": {
        "id": "lLpetvs6Jgjq"
      },
      "execution_count": null,
      "outputs": []
    },
    {
      "cell_type": "code",
      "source": [
        "# Dataset is ready to analysis.\n",
        "# Create a copy of the current dataset and assigning to bike_df1\n",
        "bike_df1 = bike_df.copy()"
      ],
      "metadata": {
        "id": "wk-9a2fpoLcV"
      },
      "execution_count": null,
      "outputs": []
    },
    {
      "cell_type": "markdown",
      "source": [
        "### Manipulations have I done and insights I found?"
      ],
      "metadata": {
        "id": "MSa1f5Uengrz"
      }
    },
    {
      "cell_type": "markdown",
      "source": [
        "* First of all change the column names and give proper names to all column.\n",
        "* Python read \"Date\" column as a object type basically it reads as a string, as the date column is very important to analyze the users behaviour so we need to convert it into datetime format then we split it into 3 column i.e 'year', 'month', 'day'as a category data type.\n",
        "* The \"year\" column in our data set is basically contain the 2 unique number contains the details of from 2017 december to 2018 november so if i consider this is a one year then we don't need the \"year\" column so we drop it.\n",
        "* The other column \"day\", it contains the details about the each day of the month, for our relevence we don't need each day of each month data but we need the data about, if a day is a weekday or a weekend so we convert it into this format and drop the \"day\" column.\n",
        "* As \"Hour\",\"month\",\"weekdays_weekend\" column are show as a integer data type but actually it is a category data tyepe. so we need to change this data tyepe if we not then, while doing the further anlysis and correleted with this then the values are not actually true so we can mislead by this."
      ],
      "metadata": {
        "id": "LbyXE7I1olp8"
      }
    },
    {
      "cell_type": "markdown",
      "source": [
        "### Data Vizualization, Storytelling & Experimenting with charts : Understand the relationships between variables"
      ],
      "metadata": {
        "id": "GF8Ens_Soomf"
      }
    },
    {
      "cell_type": "markdown",
      "source": [
        "#### Chart - 1"
      ],
      "metadata": {
        "id": "0wOQAZs5pc--"
      }
    },
    {
      "cell_type": "code",
      "source": [
        "# Chart - 1 visualization code\n",
        "\n",
        "# Anlysis of data by vizualisation\n",
        "fig, ax = plt.subplots(figsize=(8,5))\n",
        "sns.barplot(data=bike_df, x='month', y='Rented_Bike_Count', ax=ax, capsize=.2)\n",
        "ax.set(title='Count of Rented bikes acording to Month ')"
      ],
      "metadata": {
        "id": "7v_ESjsspbW7"
      },
      "execution_count": null,
      "outputs": []
    },
    {
      "cell_type": "markdown",
      "source": [
        "##### 1. Why did you pick the specific chart?"
      ],
      "metadata": {
        "id": "K5QZ13OEpz2H"
      }
    },
    {
      "cell_type": "markdown",
      "source": [
        "Bar charts show the frequency counts of values for the different levels of a categorical or nominal variable. Sometimes, bar charts show other statistics, such as percentages.\n",
        "\n",
        "To show the count of most bookings made by the agent that's why I have used Bar Chart."
      ],
      "metadata": {
        "id": "XESiWehPqBRc"
      }
    },
    {
      "cell_type": "markdown",
      "source": [
        "##### 2. What is/are the insight(s) found from the chart?"
      ],
      "metadata": {
        "id": "lQ7QKXXCp7Bj"
      }
    },
    {
      "cell_type": "markdown",
      "source": [
        "From the above bar plot we can clearly say that from the month 5 to 10 the demand of the rented bike is high as compare to other months.these months are comes inside the summer season."
      ],
      "metadata": {
        "id": "C_j1G7yiqdRP"
      }
    },
    {
      "cell_type": "markdown",
      "source": [
        "#### Chart - 2"
      ],
      "metadata": {
        "id": "KSlN3yHqYklG"
      }
    },
    {
      "cell_type": "code",
      "source": [
        "# Chart - 2 visualization code\n",
        "# Analysis of data by vizualisation\n",
        "fig, ax = plt.subplots(figsize=(8,5))\n",
        "sns.barplot(data=bike_df, x='weekdays_weekend', y='Rented_Bike_Count', ax=ax, capsize=.2)\n",
        "ax.set(title='Count of Rented bikes acording to weekdays_weekenday')"
      ],
      "metadata": {
        "id": "R4YgtaqtYklH"
      },
      "execution_count": null,
      "outputs": []
    },
    {
      "cell_type": "markdown",
      "source": [
        "##### 1. Why did you pick the specific chart?"
      ],
      "metadata": {
        "id": "t6dVpIINYklI"
      }
    },
    {
      "cell_type": "markdown",
      "source": [
        "Bar charts show the frequency counts of values for the different levels of a categorical or nominal variable. Sometimes, bar charts show other statistics, such as percentages.\n",
        "\n",
        "To show the count of most bookings made by the agent that's why I have used Bar Chart."
      ],
      "metadata": {
        "id": "5aaW0BYyYklI"
      }
    },
    {
      "cell_type": "markdown",
      "source": [
        "##### 2. What is/are the insight(s) found from the chart?"
      ],
      "metadata": {
        "id": "ijmpgYnKYklI"
      }
    },
    {
      "cell_type": "markdown",
      "source": [
        "From the above bar plot we can say that in the week days which represent in blue colur show that the demand of the bike higher because of the office."
      ],
      "metadata": {
        "id": "PSx9atu2YklI"
      }
    },
    {
      "cell_type": "markdown",
      "source": [
        "#### Chart - 3"
      ],
      "metadata": {
        "id": "EM7whBJCYoAo"
      }
    },
    {
      "cell_type": "code",
      "source": [
        "# Chart - 3 visualization code\n",
        "# Analysis of data by vizualisation\n",
        "fig, ax = plt.subplots(figsize=(10,5))\n",
        "sns.pointplot(data=bike_df, x='Hour',y='Rented_Bike_Count',hue='weekdays_weekend',ax=ax)\n",
        "ax.set(title='Count of Rented bikes acording to weekdays_weekend')"
      ],
      "metadata": {
        "id": "t6GMdE67YoAp"
      },
      "execution_count": null,
      "outputs": []
    },
    {
      "cell_type": "markdown",
      "source": [
        "##### 1. Why did you pick the specific chart?"
      ],
      "metadata": {
        "id": "fge-S5ZAYoAp"
      }
    },
    {
      "cell_type": "markdown",
      "source": [
        "A point plot is a categorical plot that displays the mean value (or another statistical estimate) and confidence intervals for different categories. It is commonly used to compare the relationship between a categorical variable and a numeric variable across different groups or levels."
      ],
      "metadata": {
        "id": "5dBItgRVYoAp"
      }
    },
    {
      "cell_type": "markdown",
      "source": [
        "##### 2. What is/are the insight(s) found from the chart?"
      ],
      "metadata": {
        "id": "85gYPyotYoAp"
      }
    },
    {
      "cell_type": "markdown",
      "source": [
        "From the above point plot we can say that in the week days which represent in blue colur show that the demand of the bike higher because of the office."
      ],
      "metadata": {
        "id": "4jstXR6OYoAp"
      }
    },
    {
      "cell_type": "markdown",
      "source": [
        "#### Chart - 4"
      ],
      "metadata": {
        "id": "4Of9eVA-YrdM"
      }
    },
    {
      "cell_type": "code",
      "source": [
        "# Chart - 4 visualization code\n",
        "# Analysis of data by vizualisation\n",
        "fig, ax = plt.subplots(figsize=(10,5))\n",
        "sns.barplot(data=bike_df, x='Hour', y='Rented_Bike_Count', ax=ax, capsize=.2)\n",
        "ax.set(title='Count of Rented bikes acording to Hour')"
      ],
      "metadata": {
        "id": "irlUoxc8YrdO"
      },
      "execution_count": null,
      "outputs": []
    },
    {
      "cell_type": "markdown",
      "source": [
        "##### 1. Why did you pick the specific chart?"
      ],
      "metadata": {
        "id": "iky9q4vBYrdO"
      }
    },
    {
      "cell_type": "markdown",
      "source": [
        "Bar charts show the frequency counts of values for the different levels of a categorical or nominal variable. Sometimes, bar charts show other statistics, such as percentages.\n",
        "\n",
        "To show the count of most bookings made by the agent that's why I have used Bar Chart."
      ],
      "metadata": {
        "id": "aJRCwT6DYrdO"
      }
    },
    {
      "cell_type": "markdown",
      "source": [
        "##### 2. What is/are the insight(s) found from the chart?"
      ],
      "metadata": {
        "id": "F6T5p64dYrdO"
      }
    },
    {
      "cell_type": "markdown",
      "source": [
        "In the above plot which shows the use of rented bike according the hours and the data are from all over the year.\n",
        "\n",
        "Generally people use rented bikes during their working hour from 7am to 9am and 5pm to 7pm."
      ],
      "metadata": {
        "id": "Xx8WAJvtYrdO"
      }
    },
    {
      "cell_type": "markdown",
      "source": [
        "#### Chart - 5"
      ],
      "metadata": {
        "id": "bamQiAODYuh1"
      }
    },
    {
      "cell_type": "code",
      "source": [
        "# Chart - 5 visualization code\n",
        "# Analysis of data by vizualisation\n",
        "fig, ax = plt.subplots(figsize=(8,5))\n",
        "sns.barplot(data=bike_df, x='Functioning_Day', y='Rented_Bike_Count', ax=ax, capsize=.2)\n",
        "ax.set(title='Count of Rented bikes acording to Functioning Day')"
      ],
      "metadata": {
        "id": "TIJwrbroYuh3"
      },
      "execution_count": null,
      "outputs": []
    },
    {
      "cell_type": "markdown",
      "source": [
        "##### 1. Why did you pick the specific chart?"
      ],
      "metadata": {
        "id": "QHF8YVU7Yuh3"
      }
    },
    {
      "cell_type": "markdown",
      "source": [
        "Bar charts show the frequency counts of values for the different levels of a categorical or nominal variable. Sometimes, bar charts show other statistics, such as percentages.\n",
        "\n",
        "To show the count of most bookings made by the agent that's why I have used Bar Chart."
      ],
      "metadata": {
        "id": "dcxuIMRPYuh3"
      }
    },
    {
      "cell_type": "markdown",
      "source": [
        "##### 2. What is/are the insight(s) found from the chart?"
      ],
      "metadata": {
        "id": "GwzvFGzlYuh3"
      }
    },
    {
      "cell_type": "markdown",
      "source": [
        "In the above bar plot which shows the use of rented bike in functioning day or not, and it clearly shows that, People don't use rented bikes in no functioning day."
      ],
      "metadata": {
        "id": "uyqkiB8YYuh3"
      }
    },
    {
      "cell_type": "markdown",
      "source": [
        "#### Chart - 6"
      ],
      "metadata": {
        "id": "OH-pJp9IphqM"
      }
    },
    {
      "cell_type": "code",
      "source": [
        "# Chart - 6 visualization code\n",
        "# Analysis of data by vizualisation\n",
        "fig, ax = plt.subplots(figsize=(10,5))\n",
        "sns.pointplot(data=bike_df, x='Hour', y='Rented_Bike_Count', hue='Functioning_Day', ax=ax)\n",
        "ax.set(title='Count of Rented bikes acording to Functioning Day')"
      ],
      "metadata": {
        "id": "kuRf4wtuphqN"
      },
      "execution_count": null,
      "outputs": []
    },
    {
      "cell_type": "markdown",
      "source": [
        "##### 1. Why did you pick the specific chart?"
      ],
      "metadata": {
        "id": "bbFf2-_FphqN"
      }
    },
    {
      "cell_type": "markdown",
      "source": [
        "A point plot is a categorical plot that displays the mean value (or another statistical estimate) and confidence intervals for different categories. It is commonly used to compare the relationship between a categorical variable and a numeric variable across different groups or levels."
      ],
      "metadata": {
        "id": "loh7H2nzphqN"
      }
    },
    {
      "cell_type": "markdown",
      "source": [
        "##### 2. What is/are the insight(s) found from the chart?"
      ],
      "metadata": {
        "id": "_ouA3fa0phqN"
      }
    },
    {
      "cell_type": "markdown",
      "source": [
        "In the above point plot which shows the use of rented bike in functioning day or not, and it clearly shows that, People don't use rented bikes in no functioning day."
      ],
      "metadata": {
        "id": "VECbqPI7phqN"
      }
    },
    {
      "cell_type": "markdown",
      "source": [
        "#### Chart - 7"
      ],
      "metadata": {
        "id": "PIIx-8_IphqN"
      }
    },
    {
      "cell_type": "code",
      "source": [
        "# Chart - 7 visualization code\n",
        "# Analysis of data by vizualisation\n",
        "fig, ax = plt.subplots(figsize=(8,5))\n",
        "sns.barplot(data=bike_df, x='Seasons', y='Rented_Bike_Count', ax=ax, capsize=.2)\n",
        "ax.set(title='Count of Rented bikes acording to Seasons')"
      ],
      "metadata": {
        "id": "lqAIGUfyphqO"
      },
      "execution_count": null,
      "outputs": []
    },
    {
      "cell_type": "markdown",
      "source": [
        "##### 1. Why did you pick the specific chart?"
      ],
      "metadata": {
        "id": "t27r6nlMphqO"
      }
    },
    {
      "cell_type": "markdown",
      "source": [
        "Bar charts show the frequency counts of values for the different levels of a categorical or nominal variable. Sometimes, bar charts show other statistics, such as percentages.\n",
        "\n",
        "To show the count of most bookings made by the agent that's why I have used Bar Chart."
      ],
      "metadata": {
        "id": "iv6ro40sphqO"
      }
    },
    {
      "cell_type": "markdown",
      "source": [
        "##### 2. What is/are the insight(s) found from the chart?"
      ],
      "metadata": {
        "id": "r2jJGEOYphqO"
      }
    },
    {
      "cell_type": "markdown",
      "source": [
        "In the above bar plot which shows the use of rented bike in in four different seasons, and it clearly shows that, In summer season the use of rented bike is high."
      ],
      "metadata": {
        "id": "Po6ZPi4hphqO"
      }
    },
    {
      "cell_type": "markdown",
      "source": [
        "#### Chart - 8"
      ],
      "metadata": {
        "id": "BZR9WyysphqO"
      }
    },
    {
      "cell_type": "code",
      "source": [
        "# Chart - 8 visualization code\n",
        "# Analysis of data by vizualisation\n",
        "fig, ax = plt.subplots(figsize=(10,5))\n",
        "sns.pointplot(data=bike_df, x='Hour', y='Rented_Bike_Count', hue='Seasons', ax=ax)\n",
        "ax.set(title='Count of Rented bikes acording to seasons')"
      ],
      "metadata": {
        "id": "TdPTWpAVphqO"
      },
      "execution_count": null,
      "outputs": []
    },
    {
      "cell_type": "markdown",
      "source": [
        "##### 1. Why did you pick the specific chart?"
      ],
      "metadata": {
        "id": "jj7wYXLtphqO"
      }
    },
    {
      "cell_type": "markdown",
      "source": [
        "A point plot is a categorical plot that displays the mean value (or another statistical estimate) and confidence intervals for different categories. It is commonly used to compare the relationship between a categorical variable and a numeric variable across different groups or levels."
      ],
      "metadata": {
        "id": "Ob8u6rCTphqO"
      }
    },
    {
      "cell_type": "markdown",
      "source": [
        "##### 2. What is/are the insight(s) found from the chart?"
      ],
      "metadata": {
        "id": "eZrbJ2SmphqO"
      }
    },
    {
      "cell_type": "markdown",
      "source": [
        "In the above point plot which shows the use of rented bike in in four different seasons, and it clearly shows that,\n",
        "\n",
        "In summer season the use of rented bike is high and peak time is 7am-9am and 5pm-7pm.\n",
        "\n",
        "In winter season the use of rented bike is very low because of snowfall."
      ],
      "metadata": {
        "id": "mZtgC_hjphqO"
      }
    },
    {
      "cell_type": "markdown",
      "source": [
        "#### Chart - 9"
      ],
      "metadata": {
        "id": "YJ55k-q6phqO"
      }
    },
    {
      "cell_type": "code",
      "source": [
        "# Chart - 9 visualization code\n",
        "# Analysis of data by vizualisation\n",
        "fig, ax = plt.subplots(figsize=(8,5))\n",
        "sns.barplot(data=bike_df, x='Holiday', y='Rented_Bike_Count', ax=ax, capsize=.2)\n",
        "ax.set(title='Count of Rented bikes acording to Holiday ')"
      ],
      "metadata": {
        "id": "B2aS4O1ophqO"
      },
      "execution_count": null,
      "outputs": []
    },
    {
      "cell_type": "markdown",
      "source": [
        "##### 1. Why did you pick the specific chart?"
      ],
      "metadata": {
        "id": "gCFgpxoyphqP"
      }
    },
    {
      "cell_type": "markdown",
      "source": [
        "Bar charts show the frequency counts of values for the different levels of a categorical or nominal variable. Sometimes, bar charts show other statistics, such as percentages.\n",
        "\n",
        "To show the count of most bookings made by the agent that's why I have used Bar Chart."
      ],
      "metadata": {
        "id": "TVxDimi2phqP"
      }
    },
    {
      "cell_type": "markdown",
      "source": [
        "##### 2. What is/are the insight(s) found from the chart?"
      ],
      "metadata": {
        "id": "OVtJsKN_phqQ"
      }
    },
    {
      "cell_type": "markdown",
      "source": [
        "In the above bar plot which shows the use of rented bike is more on Non-holiday compare to holiday."
      ],
      "metadata": {
        "id": "ngGi97qjphqQ"
      }
    },
    {
      "cell_type": "markdown",
      "source": [
        "#### Chart - 10"
      ],
      "metadata": {
        "id": "U2RJ9gkRphqQ"
      }
    },
    {
      "cell_type": "code",
      "source": [
        "# Chart - 10 visualization code\n",
        "# Analysis of data by vizualisation\n",
        "fig, ax = plt.subplots(figsize=(10,5))\n",
        "sns.pointplot(data=bike_df, x='Hour', y='Rented_Bike_Count', hue='Holiday', ax=ax)\n",
        "ax.set(title='Count of Rented bikes acording to Holiday ')"
      ],
      "metadata": {
        "id": "GM7a4YP4phqQ"
      },
      "execution_count": null,
      "outputs": []
    },
    {
      "cell_type": "markdown",
      "source": [
        "##### 1. Why did you pick the specific chart?"
      ],
      "metadata": {
        "id": "1M8mcRywphqQ"
      }
    },
    {
      "cell_type": "markdown",
      "source": [
        "A point plot is a categorical plot that displays the mean value (or another statistical estimate) and confidence intervals for different categories. It is commonly used to compare the relationship between a categorical variable and a numeric variable across different groups or levels."
      ],
      "metadata": {
        "id": "8agQvks0phqQ"
      }
    },
    {
      "cell_type": "markdown",
      "source": [
        "##### 2. What is/are the insight(s) found from the chart?"
      ],
      "metadata": {
        "id": "tgIPom80phqQ"
      }
    },
    {
      "cell_type": "markdown",
      "source": [
        "In the above point plot which shows the use of rented bike in a holiday, and it clearly shows that, in holiday people uses the rented bike from 2pm-8pm."
      ],
      "metadata": {
        "id": "Qp13pnNzphqQ"
      }
    },
    {
      "cell_type": "markdown",
      "source": [
        "#### Chart - 11"
      ],
      "metadata": {
        "id": "x-EpHcCOp1ci"
      }
    },
    {
      "cell_type": "code",
      "source": [
        "# Chart - 11 visualization code\n",
        "# Analyze of Numerical variables distplots\n",
        "\n",
        "# Assign the numerical column to variable\n",
        "numerical_columns = list(bike_df.select_dtypes(['int64','float64']).columns)\n",
        "numerical_features = pd.Index(numerical_columns)\n",
        "numerical_features\n",
        "\n",
        "# Let's see how data is distributed for every column\n",
        "plt.figure(figsize=(12,10))\n",
        "plotnumber = 1\n",
        "\n",
        "for column in numerical_features:\n",
        "    if plotnumber <= 9 :\n",
        "        ax = plt.subplot(3,3,plotnumber)\n",
        "        sns.distplot(bike_df[column])\n",
        "        plt.xlabel(column,fontsize=20)\n",
        "    plotnumber+=1\n",
        "plt.tight_layout()"
      ],
      "metadata": {
        "id": "mAQTIvtqp1cj"
      },
      "execution_count": null,
      "outputs": []
    },
    {
      "cell_type": "markdown",
      "source": [
        "##### 1. Why did you pick the specific chart?"
      ],
      "metadata": {
        "id": "X_VqEhTip1ck"
      }
    },
    {
      "cell_type": "markdown",
      "source": [
        "Distplot is used basically for univariant set of observations and visualizes it through a histogram i.e. only one observation and hence we choose one particular column of the dataset."
      ],
      "metadata": {
        "id": "-vsMzt_np1ck"
      }
    },
    {
      "cell_type": "markdown",
      "source": [
        "##### 2. What is/are the insight(s) found from the chart?"
      ],
      "metadata": {
        "id": "8zGJKyg5p1ck"
      }
    },
    {
      "cell_type": "markdown",
      "source": [
        "In the above distplot we can see that there are right skew and left skew are present in most of the columns."
      ],
      "metadata": {
        "id": "ZYdMsrqVp1ck"
      }
    },
    {
      "cell_type": "markdown",
      "source": [
        "#### Chart - 12"
      ],
      "metadata": {
        "id": "n3dbpmDWp1ck"
      }
    },
    {
      "source": [
        "# Chart - 12 visualization code\n",
        "# Numerical vs.Rented_Bike_Count\n",
        "\n",
        "# Print the plot to analyze the relationship between \"Rented_Bike_Count\" and \"Temperature\"\n",
        "bike_df.groupby('Temperature')['Rented_Bike_Count'].mean().plot()"
      ],
      "cell_type": "code",
      "metadata": {
        "id": "ehaMOaX3hKxo"
      },
      "execution_count": null,
      "outputs": []
    },
    {
      "source": [
        "# Print the plot to analyze the relationship between \"Rented_Bike_Count\" and \"Dew_point_temperature\"\n",
        "bike_df.groupby('Dew_point_temperature')['Rented_Bike_Count'].mean().plot()"
      ],
      "cell_type": "code",
      "metadata": {
        "id": "NPiasfGThzmd"
      },
      "execution_count": null,
      "outputs": []
    },
    {
      "source": [
        "# Print the plot to analyze the relationship between \"Rented_Bike_Count\" and \"Solar_Radiation\"\n",
        "bike_df.groupby('Solar_Radiation')['Rented_Bike_Count'].mean().plot()"
      ],
      "cell_type": "code",
      "metadata": {
        "id": "1tr4rL0ZiBr8"
      },
      "execution_count": null,
      "outputs": []
    },
    {
      "cell_type": "code",
      "source": [
        "# Print the plot to analyze the relationship between \"Rented_Bike_Count\" and \"Snowfall\"\n",
        "bike_df.groupby('Snowfall')['Rented_Bike_Count'].mean().plot()"
      ],
      "metadata": {
        "id": "j6bAxXBxRbC_"
      },
      "execution_count": null,
      "outputs": []
    },
    {
      "cell_type": "code",
      "source": [
        "# Print the plot to analyze the relationship between \"Rented_Bike_Count\" and \"Rainfall\"\n",
        "bike_df.groupby('Rainfall')['Rented_Bike_Count'].mean().plot()"
      ],
      "metadata": {
        "id": "veS2KLsLRgCX"
      },
      "execution_count": null,
      "outputs": []
    },
    {
      "cell_type": "code",
      "source": [
        "# Print the plot to analyze the relationship between \"Rented_Bike_Count\" and \"Wind_speed\"\n",
        "bike_df.groupby('Wind_speed')['Rented_Bike_Count'].mean().plot()"
      ],
      "metadata": {
        "id": "blVG1SiSRp8G"
      },
      "execution_count": null,
      "outputs": []
    },
    {
      "cell_type": "markdown",
      "source": [
        "##### 1. Why did you pick the specific chart?"
      ],
      "metadata": {
        "id": "ylSl6qgtp1ck"
      }
    },
    {
      "cell_type": "markdown",
      "source": [
        "The plot() is used to draw points (markers) in a diagram. By default,\n",
        " the plot() draws a line from point to point. The function takes parameters for specifying points in the diagram."
      ],
      "metadata": {
        "id": "m2xqNkiQp1ck"
      }
    },
    {
      "cell_type": "markdown",
      "source": [
        "##### 2. What is/are the insight(s) found from the chart?"
      ],
      "metadata": {
        "id": "ZWILFDl5p1ck"
      }
    },
    {
      "cell_type": "markdown",
      "source": [
        "From the above plots we see that,\n",
        "* People like to ride bikes when it is pretty hot around 25°C in average.\n",
        "* 'Dew_point_temperature' is almost same as the 'temperature' there is some similarity present we can check it in our next step.\n",
        "* The amount of rented bikes is huge, when there is solar radiation, the counter of rents is around 1000.\n",
        "* On the y-axis, the amount of rented bike is very low when we have more than 4 cm of snow, the bike rents is much lower.\n",
        "* Even if it rains a lot the demand of of rent bikes is not decreasing, here for example even if we have 20 mm of rain there is a big peak of rented bikes.\n",
        "* Demand of rented bike is uniformly distribute despite of wind speed but when the speed of wind was 7 m/s then the demand of bike also increase that clearly means peoples love to ride bikes when its little windy.\n"
      ],
      "metadata": {
        "id": "x-lUsV2mp1ck"
      }
    },
    {
      "cell_type": "markdown",
      "source": [
        "#### Chart - 13"
      ],
      "metadata": {
        "id": "Ag9LCva-p1cl"
      }
    },
    {
      "cell_type": "code",
      "source": [
        "# Chart - 13 Visualization code\n",
        "# Printing the regression plot for all the numerical features\n",
        "\n",
        "# Let's see how data is distributed for every column\n",
        "plotnumber = 1\n",
        "plt.figure(figsize=(12,10))\n",
        "\n",
        "for column in numerical_features:\n",
        "    if plotnumber <= 9:\n",
        "        ax = plt.subplot(3,3,plotnumber)\n",
        "        sns.regplot(x=bike_df[column], y=bike_df['Rented_Bike_Count'], scatter_kws={\"color\": 'green'}, line_kws={\"color\": \"black\"})\n",
        "        ax.set_xlabel(column, fontsize=12)\n",
        "        ax.set_ylabel('Rented Bike Count', fontsize=12)\n",
        "    plotnumber += 1\n",
        "\n",
        "plt.tight_layout()\n",
        "plt.show()"
      ],
      "metadata": {
        "id": "EUfxeq9-p1cl"
      },
      "execution_count": null,
      "outputs": []
    },
    {
      "cell_type": "markdown",
      "source": [
        "##### 1. Why did you pick the specific chart?"
      ],
      "metadata": {
        "id": "E6MkPsBcp1cl"
      }
    },
    {
      "cell_type": "markdown",
      "source": [
        "Regplot used to create a scatter plot with a linear regression line fit to the data. It allows you to visualize the relationship between two variables and assess the strength and direction of their linear correlation. The regplot function can be used to perform simple linear regression analysis and visualize the resulting model."
      ],
      "metadata": {
        "id": "V22bRsFWp1cl"
      }
    },
    {
      "cell_type": "markdown",
      "source": [
        "##### 2. What is/are the insight(s) found from the chart?"
      ],
      "metadata": {
        "id": "2cELzS2fp1cl"
      }
    },
    {
      "cell_type": "markdown",
      "source": [
        "From the above regression plot of all numerical features we see that the columns 'Temperature', 'Wind_speed','Visibility', 'Dew_point_temperature', 'Solar_Radiation' are positively relation to the target variable.\n",
        "\n",
        "Which means the rented bike count increases with increase of these features.\n",
        "\n",
        "'Rainfall','Snowfall','Humidity' these features are negatively related with the target variaable which means the rented bike count decreases when these features increase."
      ],
      "metadata": {
        "id": "ozQPc2_Ip1cl"
      }
    },
    {
      "cell_type": "markdown",
      "source": [
        "#### Chart - 14"
      ],
      "metadata": {
        "id": "xguerx_JGP_q"
      }
    },
    {
      "cell_type": "code",
      "source": [
        "# Chart - 14 Visualization code\n",
        "# Visualize the outliers using boxplot\n",
        "plt.figure(figsize=(15,12))\n",
        "graph = 1\n",
        "\n",
        "for column in numerical_features:\n",
        "    if graph <= 9:\n",
        "        plt.subplot(3,3,graph)\n",
        "        ax=sns.boxplot(bike_df[column])\n",
        "        plt.xlabel(column,fontsize=10)\n",
        "    graph+=1\n",
        "plt.show()"
      ],
      "metadata": {
        "id": "WvmxR5mdXrmN"
      },
      "execution_count": null,
      "outputs": []
    },
    {
      "cell_type": "markdown",
      "source": [
        "##### 1. Why did you pick the specific chart?"
      ],
      "metadata": {
        "id": "-6n-QWlBGBLY"
      }
    },
    {
      "cell_type": "markdown",
      "source": [
        "Boxplot is used to create box and whisker plots. A boxplot is a visual representation of the distribution of a dataset, showing the median, quartiles, and any outliers."
      ],
      "metadata": {
        "id": "4DFU4BSyGBLy"
      }
    },
    {
      "cell_type": "markdown",
      "source": [
        "##### 2. What is/are the insight(s) found from the chart?"
      ],
      "metadata": {
        "id": "l4mlmx8v8cDt"
      }
    },
    {
      "cell_type": "markdown",
      "source": [
        "In the above boxplot we can see that outliers are present in most of the columns like wind speed, solar radiation etc."
      ],
      "metadata": {
        "id": "OaXzFZpu8cD9"
      }
    },
    {
      "cell_type": "markdown",
      "source": [
        "#### Chart - 15 - Correlation Heatmap"
      ],
      "metadata": {
        "id": "NC_X3p0fY2L0"
      }
    },
    {
      "cell_type": "code",
      "source": [
        "# Correlation Heatmap visualization code\n",
        "# Plot the Correlation matrix\n",
        "plt.figure(figsize=(20,8))\n",
        "correlation = bike_df.corr(numeric_only=True)\n",
        "sns.heatmap((correlation), annot=True, cmap='YlGnBu')"
      ],
      "metadata": {
        "id": "xyC9zolEZNRQ"
      },
      "execution_count": null,
      "outputs": []
    },
    {
      "cell_type": "markdown",
      "source": [
        "##### 1. Why did you pick the specific chart?"
      ],
      "metadata": {
        "id": "UV0SzAkaZNRQ"
      }
    },
    {
      "cell_type": "markdown",
      "source": [
        "The correlation heatmap chart is a great way to visualize correlations between multiple variables. It provides a clear and concise view of the relationships between the variables, which allows for easy and quick analysis. Additionally, the color coding used in the heatmap helps to quickly and easily identify correlations that may otherwise not be as apparent."
      ],
      "metadata": {
        "id": "DVPuT8LYZNRQ"
      }
    },
    {
      "cell_type": "markdown",
      "source": [
        "##### 2. What is/are the insight(s) found from the chart?"
      ],
      "metadata": {
        "id": "YPEH6qLeZNRQ"
      }
    },
    {
      "cell_type": "markdown",
      "source": [
        "We can observe on the heatmap that on the target variable line the most positively correlated variables to the rent are :\n",
        "\n",
        "* Temperature\n",
        "* Dew point temperature\n",
        "* Solar radiation\n",
        "\n",
        "And most negatively correlated variables are:\n",
        "\n",
        "* Humidity\n",
        "* Rainfall\n",
        "* Snowfall\n",
        "\n",
        "From the above correlation heatmap, We see that there is a positive\n",
        "correlation between columns 'Temperature' and 'Dew point temperature' i.e 0.91 so even if we drop this column then it dont affects the outcome of our analysis. And they have the same variations.. so we can drop the column 'Dew point temperature(°C)'."
      ],
      "metadata": {
        "id": "bfSqtnDqZNRR"
      }
    },
    {
      "cell_type": "markdown",
      "source": [
        "### Feature Engineering & Data Pre-processing"
      ],
      "metadata": {
        "id": "yLjJCtPM0KBk"
      }
    },
    {
      "cell_type": "markdown",
      "source": [
        "#### 1. Handling Missing Values"
      ],
      "metadata": {
        "id": "xiyOF9F70UgQ"
      }
    },
    {
      "cell_type": "code",
      "source": [
        "# Handling Missing Values & Missing Value Imputation\n",
        "# Missing Values/Null Values Count\n",
        "print(bike_df.isnull().sum())\n",
        "\n",
        "# Visualizing the missing values\n",
        "# Checking Null Value by plotting Heatmap\n",
        "sns.heatmap(bike_df.isnull(), cbar=False)"
      ],
      "metadata": {
        "id": "iRsAHk1K0fpS"
      },
      "execution_count": null,
      "outputs": []
    },
    {
      "cell_type": "markdown",
      "source": [
        "* There are no missing values to handle in the given dataset.**"
      ],
      "metadata": {
        "id": "2cZsWdOG1aCj"
      }
    },
    {
      "cell_type": "markdown",
      "source": [
        "#### 2. Handling Outliers"
      ],
      "metadata": {
        "id": "id1riN9m0vUs"
      }
    },
    {
      "cell_type": "code",
      "source": [
        "# Handling Outliers & Outlier treatments\n",
        "\n",
        "# Remove outliers using zscore.\n",
        "from scipy.stats import zscore\n",
        "\n",
        "z_score = zscore(bike_df[numerical_features])\n",
        "abs_z_score = np.abs(z_score)\n",
        "\n",
        "filtering_entry = (abs_z_score < 3).all(axis=1)\n",
        "\n",
        "bike_df = bike_df[filtering_entry]"
      ],
      "metadata": {
        "id": "M6w2CzZf04JK"
      },
      "execution_count": null,
      "outputs": []
    },
    {
      "cell_type": "markdown",
      "source": [
        "* I have used z_score technique to treat outliers.\n",
        "* The z-score technique is used to treat outliers because it provides a standardized way to identify and handle data points that deviate significantly from the mean of a distribution."
      ],
      "metadata": {
        "id": "uGZz5OrT1HH-"
      }
    },
    {
      "cell_type": "markdown",
      "source": [
        "#### 3. Categorical Encoding"
      ],
      "metadata": {
        "id": "89xtkJwZ18nB"
      }
    },
    {
      "cell_type": "code",
      "source": [
        "# Encode your categorical columns\n",
        "\n",
        "# Assign all catagoriacla features to a variable\n",
        "categorical_features=list(bike_df.select_dtypes(['object','category']).columns)\n",
        "categorical_features=pd.Index(categorical_features)\n",
        "categorical_features\n",
        "\n",
        "# Creat a copy\n",
        "bike_df_copy = bike_df\n",
        "\n",
        "def one_hot_encoding(data, column):\n",
        "    data = pd.concat([data, pd.get_dummies(data[column], prefix=column, drop_first=True)], axis=1)\n",
        "    data = data.drop([column], axis=1)\n",
        "    return data\n",
        "\n",
        "for col in categorical_features:\n",
        "    bike_df_copy = one_hot_encoding(bike_df_copy, col)\n",
        "bike_df_copy.head()"
      ],
      "metadata": {
        "id": "21JmIYMG2hEo"
      },
      "execution_count": null,
      "outputs": []
    },
    {
      "cell_type": "markdown",
      "source": [
        "* I have used One_hot_encoding technique for categorical data conversion.\n",
        "* One hot encoding is used to represent categorical variables numerically in a format that is suitable for machine learning algorithms. It is a popular technique for handling categorical data because many machine learning algorithms are designed to work with numerical data rather than categorical data."
      ],
      "metadata": {
        "id": "UDaue5h32n_G"
      }
    },
    {
      "cell_type": "markdown",
      "source": [
        "### Feature Manipulation & Selection"
      ],
      "metadata": {
        "id": "-oLEiFgy-5Pf"
      }
    },
    {
      "cell_type": "markdown",
      "source": [
        "#### 1. Feature Scalling"
      ],
      "metadata": {
        "id": "ZZ0IWoQT7LtS"
      }
    },
    {
      "cell_type": "code",
      "source": [
        "# Split data into x and y\n",
        "y = bike_df_copy['Rented_Bike_Count']\n",
        "X = bike_df_copy.drop(columns='Rented_Bike_Count', axis=1)\n",
        "\n",
        "# Feature Scalling\n",
        "from sklearn.preprocessing import StandardScaler\n",
        "scaler = StandardScaler()\n",
        "X_scaled = scaler.fit_transform(X)"
      ],
      "metadata": {
        "id": "YLhe8UmaBCEE"
      },
      "execution_count": null,
      "outputs": []
    },
    {
      "cell_type": "code",
      "source": [
        "X_scaled.shape[1]"
      ],
      "metadata": {
        "id": "vV-q1a8i4mn0"
      },
      "execution_count": null,
      "outputs": []
    },
    {
      "cell_type": "markdown",
      "source": [
        "* I have used standard scaler technique for data scaling.\n",
        "* Standard scaling technique is used to promote better analysis, enhance model performance, and ensure consistent and meaningful comparisons among variables in various statistical and machine learning tasks."
      ],
      "metadata": {
        "id": "hX_NugHyXwQ0"
      }
    },
    {
      "cell_type": "markdown",
      "source": [
        "#### 2. Feature Selection using VIF"
      ],
      "metadata": {
        "id": "7kFGq10U7fD7"
      }
    },
    {
      "cell_type": "code",
      "source": [
        "# Finding variance inflation factor in each scaled column i.e X_scaled.shape[1] (1/(1-R2))\n",
        "from statsmodels.stats.outliers_influence import variance_inflation_factor\n",
        "vif = pd.DataFrame()\n",
        "vif[\"vif_score\"] = [variance_inflation_factor(X_scaled, i) for i in range(X_scaled.shape[1])]\n",
        "vif[\"Features\"] = X.columns\n",
        "\n",
        "# Let's check the values\n",
        "vif"
      ],
      "metadata": {
        "id": "naWcccFy4s6U"
      },
      "execution_count": null,
      "outputs": []
    },
    {
      "cell_type": "code",
      "source": [
        "# Drop the Dew point temperature column\n",
        "bike_df_copy = bike_df_copy.drop(['Dew_point_temperature'],axis=1)"
      ],
      "metadata": {
        "id": "vCkN2nA47Wic"
      },
      "execution_count": null,
      "outputs": []
    },
    {
      "cell_type": "markdown",
      "source": [
        "* I have used Correlation heatmat (corr) and VIF method for feature selection.\n",
        "* A correlation heatmap (corr) is used to visualize the correlation between different variables in a dataset. It is a graphical representation of the correlation matrix, where each cell represents the correlation coefficient between two variables. The correlation coefficient indicates the strength and direction of the linear relationship between two variables.\n",
        "* VIF (Variance Inflation Factor) is used to measure multicollinearity in regression analysis. Multicollinearity occurs when there is a high correlation between two or more predictor variables in a regression model, which can lead to issues in the interpretation of the model and unstable coefficient estimates."
      ],
      "metadata": {
        "id": "rb2Lh6Z8BgGs"
      }
    },
    {
      "cell_type": "markdown",
      "source": [
        "We can observe on the heatmap that on the target variable line the most positively correlated variables to the rent are :\n",
        "\n",
        "Temperature\n",
        "Dew point temperature\n",
        "Solar radiation\n",
        "And most negatively correlated variables are:\n",
        "\n",
        "Humidity\n",
        "Rainfall\n",
        "From the above correlation heatmap, We see that there is a positive correlation between columns 'Temperature' and 'Dew point temperature' i.e 0.91 so even if we drop this column then it dont affects the outcome of our analysis. And they have the same variations.. so we can drop the column 'Dew point temperature(°C)'."
      ],
      "metadata": {
        "id": "fGgaEstsBnaf"
      }
    },
    {
      "cell_type": "markdown",
      "source": [
        "### Data Train-Test Split"
      ],
      "metadata": {
        "id": "BhH2vgX9EjGr"
      }
    },
    {
      "cell_type": "code",
      "source": [
        "# Split your data to train and test. Choose Splitting ratio wisely.\n",
        "\n",
        " # Split into 70:30 ratio\n",
        "from sklearn.model_selection import train_test_split\n",
        "X_train, X_test, y_train, y_test = train_test_split(X_scaled, y, test_size = 0.3, random_state = 42)\n",
        "\n",
        "# Describes info about train and test set\n",
        "print(\"Number transactions X_train dataset: \", X_train.shape)\n",
        "print(\"Number transactions y_train dataset: \", y_train.shape)\n",
        "print(\"Number transactions X_test dataset: \", X_test.shape)\n",
        "print(\"Number transactions y_test dataset: \", y_test.shape)"
      ],
      "metadata": {
        "id": "0CTyd2UwEyNM"
      },
      "execution_count": null,
      "outputs": []
    },
    {
      "cell_type": "markdown",
      "source": [
        "* I have split the data in 70-30 % ratio in train-test.\n",
        "* The 70-30 ratio for train-test split is a commonly used practice in machine learning and data analysis, although it is not a hard rule and can vary depending on the specific problem and dataset. The 70% of the data is typically allocated to the training set, while the remaining 30% is allocated to the test set."
      ],
      "metadata": {
        "id": "Y2lJ8cobFDb_"
      }
    },
    {
      "cell_type": "markdown",
      "source": [
        "### ML Model Implementation"
      ],
      "metadata": {
        "id": "VfCC591jGiD4"
      }
    },
    {
      "cell_type": "code",
      "source": [
        "# Fit the Algorithm\n",
        "from sklearn.linear_model import LinearRegression\n",
        "reg = LinearRegression().fit(X_train, y_train)\n",
        "\n",
        "# Check the score\n",
        "reg.score(X_train, y_train)"
      ],
      "metadata": {
        "id": "7ebyywQieS1U"
      },
      "execution_count": null,
      "outputs": []
    },
    {
      "cell_type": "code",
      "source": [
        "# Get the X_train and X-test value\n",
        "y_pred_train = reg.predict(X_train)\n",
        "y_pred_test = reg.predict(X_test)"
      ],
      "metadata": {
        "id": "o92WfvtoKMxt"
      },
      "execution_count": null,
      "outputs": []
    },
    {
      "cell_type": "code",
      "source": [
        "print(\"\\n================Train Result==========================\")\n",
        "\n",
        "from sklearn.metrics import r2_score\n",
        "from sklearn.metrics import mean_squared_error\n",
        "from sklearn.metrics import mean_absolute_error\n",
        "\n",
        "# Calculate MSE\n",
        "MSE_lr= mean_squared_error((y_train), (y_pred_train))\n",
        "print(\"MSE :\",MSE_lr)\n",
        "\n",
        "# Calculate RMSE\n",
        "RMSE_lr=np.sqrt(MSE_lr)\n",
        "print(\"RMSE :\",RMSE_lr)\n",
        "\n",
        "# Calculate MAE\n",
        "MAE_lr= mean_absolute_error(y_train, y_pred_train)\n",
        "print(\"MAE :\",MAE_lr)\n",
        "\n",
        "# Calculate r2 and adjusted r2\n",
        "r2_lr= r2_score(y_train, y_pred_train)\n",
        "print(\"R2 :\",r2_lr)\n",
        "Adjusted_R2_lr = (1-(1-r2_score(y_train, y_pred_train))*((X_test.shape[0]-1)/(X_test.shape[0]-X_test.shape[1]-1)) )\n",
        "print(\"Adjusted R2 :\",1-(1-r2_score(y_train, y_pred_train))*((X_test.shape[0]-1)/(X_test.shape[0]-X_test.shape[1]-1)) )\n",
        "\n",
        "# Storing the train set metrics value in a dataframe for later comparison\n",
        "dict1={'Model':'Linear Regression',\n",
        "       'MAE':round((MAE_lr),3),\n",
        "       'MSE':round((MSE_lr),3),\n",
        "       'RMSE':round((RMSE_lr),3),\n",
        "       'R2_score':round((r2_lr),3),\n",
        "       'Adjusted R2':round((Adjusted_R2_lr ),2)\n",
        "       }\n",
        "training_df=pd.DataFrame(dict1,index=[1])"
      ],
      "metadata": {
        "id": "cWFP5YdtKcxt"
      },
      "execution_count": null,
      "outputs": []
    },
    {
      "cell_type": "code",
      "source": [
        "from sklearn.metrics import r2_score\n",
        "from sklearn.metrics import mean_squared_error\n",
        "from sklearn.metrics import mean_absolute_error\n",
        "\n",
        "print(\"\\n=================Test Result==========================\")\n",
        "\n",
        "# Calculate MSE\n",
        "MSE_lr= mean_squared_error(y_test, y_pred_test)\n",
        "print(\"MSE :\",MSE_lr)\n",
        "\n",
        "# Calculate RMSE\n",
        "RMSE_lr=np.sqrt(MSE_lr)\n",
        "print(\"RMSE :\",RMSE_lr)\n",
        "\n",
        "# Calculate MAE\n",
        "MAE_lr= mean_absolute_error(y_test, y_pred_test)\n",
        "print(\"MAE :\",MAE_lr)\n",
        "\n",
        "# Calculate r2 and adjusted r2\n",
        "r2_lr= r2_score((y_test), (y_pred_test))\n",
        "print(\"R2 :\",r2_lr)\n",
        "Adjusted_R2_lr = (1-(1-r2_score((y_test), (y_pred_test)))*((X_test.shape[0]-1)/(X_test.shape[0]-X_test.shape[1]-1)))\n",
        "print(\"Adjusted R2 :\",Adjusted_R2_lr )\n",
        "\n",
        "# Storing the test set metrics value in a dataframe for later comparison\n",
        "dict2={'Model':'Linear Regression',\n",
        "       'MAE':round((MAE_lr),3),\n",
        "       'MSE':round((MSE_lr),3),\n",
        "       'RMSE':round((RMSE_lr),3),\n",
        "       'R2_score':round((r2_lr),3),\n",
        "       'Adjusted R2':round((Adjusted_R2_lr ),2)\n",
        "       }\n",
        "test_df=pd.DataFrame(dict2,index=[1])"
      ],
      "metadata": {
        "id": "RGcWAd1nK4WS"
      },
      "execution_count": null,
      "outputs": []
    },
    {
      "cell_type": "code",
      "source": [
        "# Visualizing evaluation Metric Score chart\n",
        "print(training_df)\n",
        "print(test_df)"
      ],
      "metadata": {
        "id": "SYUZs-RvNzeQ"
      },
      "execution_count": null,
      "outputs": []
    }
  ]
}